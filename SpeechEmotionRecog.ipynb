{
  "nbformat": 4,
  "nbformat_minor": 0,
  "metadata": {
    "colab": {
      "name": "SpeechEmotionRecog.ipynb",
      "provenance": [],
      "collapsed_sections": []
    },
    "kernelspec": {
      "name": "python3",
      "display_name": "Python 3"
    }
  },
  "cells": [
    {
      "cell_type": "code",
      "metadata": {
        "id": "RQNxCREicFQ_",
        "colab_type": "code",
        "colab": {}
      },
      "source": [
        "import tensorflow as tf\n",
        "from tensorflow import keras\n",
        "import pandas as pd\n",
        "from google.colab import files\n",
        "import matplotlib.pyplot as plt\n",
        "import numpy as np\n",
        "import sklearn.model_selection as ms"
      ],
      "execution_count": 0,
      "outputs": []
    },
    {
      "cell_type": "markdown",
      "metadata": {
        "id": "UY3NtoG7p8ec",
        "colab_type": "text"
      },
      "source": [
        "Εισαγωγή βιβλιοθηκών της Python που θα χρησιμοποιηθούν."
      ]
    },
    {
      "cell_type": "code",
      "metadata": {
        "id": "3H4MN0JydVuU",
        "colab_type": "code",
        "colab": {}
      },
      "source": [
        "upl = files.upload()\n",
        "Train_Data = pd.read_csv('train_dataSFLCUT2.csv', header = None)\n",
        "Train_Labels = pd.read_csv('train_labelsSFL.csv', header = None)\n",
        "Test_Data = pd.read_csv('test_dataSFLCUT2.csv', header = None)\n",
        "Test_Labels = pd.read_csv('test_labelsSFL.csv', header = None)"
      ],
      "execution_count": 0,
      "outputs": []
    },
    {
      "cell_type": "markdown",
      "metadata": {
        "id": "HFYU2I4zplGg",
        "colab_type": "text"
      },
      "source": [
        "Έγινε η εισαγωγή των csv αρχείων του manual χωρισμού train/test."
      ]
    },
    {
      "cell_type": "code",
      "metadata": {
        "id": "vkIiyb5ZY6hO",
        "colab_type": "code",
        "colab": {}
      },
      "source": [
        "upl = files.upload()\n",
        "Data = pd.read_csv('dataSFLCUT2.csv', header = None)\n",
        "Labels = pd.read_csv('labelsSFL.csv', header = None)"
      ],
      "execution_count": 0,
      "outputs": []
    },
    {
      "cell_type": "markdown",
      "metadata": {
        "id": "AIKEqtggp0sc",
        "colab_type": "text"
      },
      "source": [
        "Έγινε η εισαγωγή των csv αρχείων για το cross-validation."
      ]
    },
    {
      "cell_type": "code",
      "metadata": {
        "id": "2Z1o3KrqaQgk",
        "colab_type": "code",
        "colab": {}
      },
      "source": [
        "def plot_history(histories, key='acc'):\n",
        "  plt.figure(figsize=(16,10))\n",
        "\n",
        "  for name, history in histories:\n",
        "    val = plt.plot(history.epoch, history.history['val_'+key],\n",
        "                   '--', label=name.title()+' Validate')\n",
        "    plt.plot(history.epoch, history.history[key], color=val[0].get_color(),\n",
        "             label=name.title()+' Train')\n",
        "\n",
        "  plt.xlabel('Epochs')\n",
        "  plt.ylabel(key.title()+'uracy')\n",
        "  plt.legend()\n",
        "\n",
        "  plt.xlim([0,max(history.epoch)])"
      ],
      "execution_count": 0,
      "outputs": []
    },
    {
      "cell_type": "markdown",
      "metadata": {
        "id": "TfJpKL2oqFnH",
        "colab_type": "text"
      },
      "source": [
        "Συνάρτηση σχεδίασης γραφικής παράστασης απόδοσης."
      ]
    },
    {
      "cell_type": "code",
      "metadata": {
        "id": "Np43CEsRAQZm",
        "colab_type": "code",
        "colab": {}
      },
      "source": [
        "model_ini = keras.Sequential()\n",
        "\n",
        "model_ini.add(keras.layers.Dense(units = 64, activation = tf.nn.relu, input_dim = 68))\n",
        "model_ini.add(keras.layers.Dense(units = 32, activation = tf.nn.relu))\n",
        "model_ini.add(keras.layers.Dense(units = 16, activation = tf.nn.relu))\n",
        "model_ini.add(keras.layers.Dense(units = 8, activation = tf.nn.softmax))\n",
        "\n",
        "model_ini.compile(optimizer = 'adam',\n",
        "              loss = 'sparse_categorical_crossentropy',\n",
        "              metrics = ['accuracy'])\n",
        "\n",
        "ini_history = model_ini.fit(Train_Data, Train_Labels, epochs = 100, validation_data = (Test_Data, Test_Labels))\n",
        "\n",
        "plot_history([('Initial', ini_history)])"
      ],
      "execution_count": 0,
      "outputs": []
    },
    {
      "cell_type": "markdown",
      "metadata": {
        "id": "swHn2q1NqSK2",
        "colab_type": "text"
      },
      "source": [
        "Αρχικό μοντέλο."
      ]
    },
    {
      "cell_type": "code",
      "metadata": {
        "id": "m-AK6RsaBbiF",
        "colab_type": "code",
        "colab": {}
      },
      "source": [
        "model_smaller = keras.Sequential()\n",
        "\n",
        "model_smaller.add(keras.layers.Dense(units = 32, activation = tf.nn.relu, input_dim = 68))\n",
        "model_smaller.add(keras.layers.Dense(units = 16, activation = tf.nn.relu))\n",
        "model_smaller.add(keras.layers.Dense(units = 8, activation = tf.nn.softmax))\n",
        "\n",
        "model_smaller.compile(optimizer = 'adam',\n",
        "              loss = 'sparse_categorical_crossentropy',\n",
        "              metrics = ['accuracy'])\n",
        "\n",
        "smaller_history = model_smaller.fit(Train_Data, Train_Labels, epochs = 100, validation_data = (Test_Data, Test_Labels))\n",
        "\n",
        "plot_history([('Initial', ini_history), ('Smaller', smaller_history)])"
      ],
      "execution_count": 0,
      "outputs": []
    },
    {
      "cell_type": "markdown",
      "metadata": {
        "id": "sPxc8dV2qWjG",
        "colab_type": "text"
      },
      "source": [
        "Μικρότερο μοντέλο."
      ]
    },
    {
      "cell_type": "code",
      "metadata": {
        "id": "vcSUFnczCFm9",
        "colab_type": "code",
        "colab": {}
      },
      "source": [
        "model_overmin = keras.Sequential()\n",
        "\n",
        "model_overmin.add(keras.layers.Dense(units = 32, kernel_regularizer=keras.regularizers.l2(0.001), activation = tf.nn.selu, input_dim = 68))\n",
        "model_overmin.add(keras.layers.Dropout(0.2))\n",
        "model_overmin.add(keras.layers.Dense(units = 16, kernel_regularizer=keras.regularizers.l2(0.001), activation = tf.nn.selu))\n",
        "model_overmin.add(keras.layers.Dropout(0.2))\n",
        "model_overmin.add(keras.layers.Dense(units = 8, kernel_regularizer=keras.regularizers.l2(0.001), activation = tf.nn.softmax))\n",
        "\n",
        "model_overmin.compile(optimizer = 'adam',\n",
        "              loss = 'sparse_categorical_crossentropy',\n",
        "              metrics = ['accuracy'])\n",
        "\n",
        "overmin_history = model_overmin.fit(Train_Data, Train_Labels, epochs = 100, validation_data = (Test_Data, Test_Labels))\n",
        "\n",
        "plot_history([('Initial', ini_history), ('Smaller', smaller_history), ('Regularizers and Dropout', overmin_history)])"
      ],
      "execution_count": 0,
      "outputs": []
    },
    {
      "cell_type": "markdown",
      "metadata": {
        "id": "8zlohn-cqZ7p",
        "colab_type": "text"
      },
      "source": [
        "Μοντέλο με regularizers (πάνω στο μικρότερο)."
      ]
    },
    {
      "cell_type": "code",
      "metadata": {
        "id": "M6vm1KhEf81x",
        "colab_type": "code",
        "colab": {}
      },
      "source": [
        "model_relu = keras.Sequential()\n",
        "\n",
        "model_relu.add(keras.layers.Dense(units = 32, kernel_regularizer=keras.regularizers.l2(0.001), activation = tf.nn.relu, input_dim = 32))\n",
        "model_relu.add(keras.layers.Dropout(0.2))\n",
        "model_relu.add(keras.layers.Dense(units = 16, kernel_regularizer=keras.regularizers.l2(0.001), activation = tf.nn.relu))\n",
        "model_relu.add(keras.layers.Dropout(0.2))\n",
        "model_relu.add(keras.layers.Dense(units = 8, kernel_regularizer=keras.regularizers.l2(0.001), activation = tf.nn.softmax))\n",
        "\n",
        "model_relu.compile(optimizer = 'adam',\n",
        "              loss = 'sparse_categorical_crossentropy',\n",
        "              metrics = ['accuracy'])\n",
        "\n",
        "relu_history = model_relu.fit(Train_Data, Train_Labels, epochs = 1000, validation_data = (Test_Data, Test_Labels))\n",
        "\n",
        "plot_history([('Subset feature vector', relu_history)])"
      ],
      "execution_count": 0,
      "outputs": []
    },
    {
      "cell_type": "markdown",
      "metadata": {
        "id": "ossQMRTPqjCS",
        "colab_type": "text"
      },
      "source": [
        "Μοντέλο με regularizers ξανά, αλλά για το υποσύνολο των χαρακτηριστικών που επιλέχθηκε (16 χαρακτηριστικά, σε μέση τιμή και τυπική απόκλιση = 32 τιμές)."
      ]
    },
    {
      "cell_type": "code",
      "metadata": {
        "id": "jY1mlthbBzTM",
        "colab_type": "code",
        "colab": {}
      },
      "source": [
        "model_selu = keras.Sequential()\n",
        "\n",
        "model_selu.add(keras.layers.Dense(units = 32, kernel_regularizer=keras.regularizers.l2(0.001), activation = tf.nn.selu, input_dim = 32))\n",
        "model_selu.add(keras.layers.Dropout(0.2))\n",
        "model_selu.add(keras.layers.Dense(units = 16, kernel_regularizer=keras.regularizers.l2(0.001), activation = tf.nn.selu))\n",
        "model_selu.add(keras.layers.Dropout(0.2))\n",
        "model_selu.add(keras.layers.Dense(units = 8, kernel_regularizer=keras.regularizers.l2(0.001), activation = tf.nn.softmax))\n",
        "\n",
        "model_selu.compile(optimizer = 'adam',\n",
        "              loss = 'sparse_categorical_crossentropy',\n",
        "              metrics = ['accuracy'])"
      ],
      "execution_count": 0,
      "outputs": []
    },
    {
      "cell_type": "markdown",
      "metadata": {
        "id": "noQVQxx-uBRM",
        "colab_type": "text"
      },
      "source": [
        "Το προηγούμενο μοντέλο, αλλά με selu."
      ]
    },
    {
      "cell_type": "code",
      "metadata": {
        "id": "R8VP5RSVRZ1r",
        "colab_type": "code",
        "colab": {}
      },
      "source": [
        "selu_history = model_selu.fit(Train_Data, Train_Labels, epochs = 1000, validation_data = (Test_Data, Test_Labels))\n",
        "\n",
        "plot_history([('Subset feature vector', relu_history), ('Subset feature vector selu', selu_history)])"
      ],
      "execution_count": 0,
      "outputs": []
    },
    {
      "cell_type": "markdown",
      "metadata": {
        "id": "FnREbbDluPXP",
        "colab_type": "text"
      },
      "source": [
        "Εκπαίδευση μοντέλου με selu για manual split."
      ]
    },
    {
      "cell_type": "code",
      "metadata": {
        "id": "jccIB0u4S2t2",
        "colab_type": "code",
        "colab": {}
      },
      "source": [
        "loo = LeaveOneOut()\n",
        "\n",
        "cvscores = []\n",
        "for train_index, test_index in loo.split(Data):\n",
        "  model_selu.fit(Data.to_numpy()[train_index], Labels.to_numpy()[train_index], epochs = 1)\n",
        "  scores = model_selu.evaluate(Data.to_numpy()[test_index], Labels.to_numpy()[test_index])\n",
        "  cvscores.append(scores[1] * 100)\n",
        "print(\"%.2f%% (+/- %.2f%%)\" % (np.mean(cvscores), np.std(cvscores)))"
      ],
      "execution_count": 0,
      "outputs": []
    },
    {
      "cell_type": "markdown",
      "metadata": {
        "id": "5zO7YAj4uYzd",
        "colab_type": "text"
      },
      "source": [
        "Εκπαίδευση μοντέλου με selu για Leave One Out Cross Validation."
      ]
    },
    {
      "cell_type": "code",
      "metadata": {
        "id": "ARITTyHC-bgN",
        "colab_type": "code",
        "colab": {}
      },
      "source": [
        "kf = ms.KFold(5)\n",
        "cvscores = []\n",
        "for train_index, test_index in kf.split(Data):\n",
        "  model_selu = keras.Sequential()\n",
        "  \n",
        "  model_selu.add(keras.layers.Dense(units = 32, kernel_regularizer=keras.regularizers.l2(0.001), activation = tf.nn.selu, input_dim = 32))\n",
        "  model_selu.add(keras.layers.Dropout(0.2))\n",
        "  model_selu.add(keras.layers.Dense(units = 16, kernel_regularizer=keras.regularizers.l2(0.001), activation = tf.nn.selu))\n",
        "  model_selu.add(keras.layers.Dropout(0.2))\n",
        "  model_selu.add(keras.layers.Dense(units = 8, kernel_regularizer=keras.regularizers.l2(0.001), activation = tf.nn.softmax))\n",
        "  \n",
        "  model_selu.compile(optimizer = 'adam',\n",
        "              loss = 'sparse_categorical_crossentropy',\n",
        "              metrics = ['accuracy'])\n",
        "  model_selu.fit(Data.to_numpy()[train_index], Labels.to_numpy()[train_index], epochs = 200)\n",
        "  scores = model_selu.evaluate(Data.to_numpy()[test_index], Labels.to_numpy()[test_index])\n",
        "  cvscores.append(scores[1] * 100)\n",
        "print(\"%.2f%% (+/- %.2f%%)\" % (np.mean(cvscores), np.std(cvscores)))"
      ],
      "execution_count": 0,
      "outputs": []
    },
    {
      "cell_type": "markdown",
      "metadata": {
        "id": "4C6GlKsfuh0m",
        "colab_type": "text"
      },
      "source": [
        "Μοντέλο selu με KFold cross-validation."
      ]
    }
  ]
}